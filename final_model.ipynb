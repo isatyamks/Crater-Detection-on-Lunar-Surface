{
 "cells": [
  {
   "cell_type": "code",
   "execution_count": 1,
   "id": "0e744571-ee1e-499e-a8db-2a04d3a53e8a",
   "metadata": {},
   "outputs": [],
   "source": [
    "import os\n",
    "import sys\n",
    "import random\n",
    "import numpy as np\n",
    "import matplotlib\n",
    "import matplotlib.pyplot as plt"
   ]
  },
  {
   "cell_type": "code",
   "execution_count": 2,
   "id": "b605f8d7-6a97-43f5-b19f-843be9de196a",
   "metadata": {},
   "outputs": [],
   "source": [
    "from mrcnn import utils\n",
    "from mrcnn import visualize\n",
    "from mrcnn.model import log"
   ]
  },
  {
   "cell_type": "code",
   "execution_count": 3,
   "id": "1d30899a-295c-497f-9357-78e7f88d054f",
   "metadata": {},
   "outputs": [],
   "source": [
    "from model import lunar_crater"
   ]
  },
  {
   "cell_type": "code",
   "execution_count": 4,
   "id": "33ed25bf-5b3c-47e8-9c76-f3d36d0f4750",
   "metadata": {},
   "outputs": [],
   "source": [
    "config = lunar_crater.CraterConfig()"
   ]
  },
  {
   "cell_type": "code",
   "execution_count": 5,
   "id": "a8ec8e5c-a4df-4aa4-8eac-13e68ccf06cb",
   "metadata": {},
   "outputs": [],
   "source": [
    "dataset = lunar_crater.CraterDataset()"
   ]
  },
  {
   "cell_type": "code",
   "execution_count": 6,
   "id": "6aea8dd5-39a0-4bd6-95d0-e8462e097cec",
   "metadata": {},
   "outputs": [],
   "source": [
    "dataset.load_crater(\"data\\\\train\")"
   ]
  },
  {
   "cell_type": "code",
   "execution_count": 7,
   "id": "129034eb-e632-4969-9b24-25aba1aa29df",
   "metadata": {},
   "outputs": [],
   "source": [
    "dataset.prepare()"
   ]
  },
  {
   "cell_type": "code",
   "execution_count": 8,
   "id": "8351e5c0-bbb0-4108-8eb1-0a00c7205b6f",
   "metadata": {},
   "outputs": [
    {
     "data": {
      "text/plain": [
       "88"
      ]
     },
     "execution_count": 8,
     "metadata": {},
     "output_type": "execute_result"
    }
   ],
   "source": [
    "len(dataset.image_ids)"
   ]
  },
  {
   "cell_type": "code",
   "execution_count": 9,
   "id": "381c5b4e-1b86-4b21-b834-d0f026e8f8ff",
   "metadata": {},
   "outputs": [
    {
     "name": "stdout",
     "output_type": "stream",
     "text": [
      "Image Count: 88\n",
      "Class Count: 2\n"
     ]
    }
   ],
   "source": [
    "print(\"Image Count: {}\".format(len(dataset.image_ids)))\n",
    "print(\"Class Count: {}\".format(dataset.num_classes))\n"
   ]
  },
  {
   "cell_type": "code",
   "execution_count": 10,
   "id": "e91efcb2-04b4-4d17-8fd7-d894213fd5f9",
   "metadata": {},
   "outputs": [
    {
     "name": "stdout",
     "output_type": "stream",
     "text": [
      "  0. BG                                                \n",
      "  1. crater                                            \n"
     ]
    }
   ],
   "source": [
    "for i, info in enumerate(dataset.class_info):\n",
    "    print(\"{:3}. {:50}\".format(i, info['name']))"
   ]
  },
  {
   "cell_type": "code",
   "execution_count": 11,
   "id": "a7e2dbb8-5ea5-4ed6-b1c2-5dca89452c4f",
   "metadata": {},
   "outputs": [],
   "source": [
    "image_id = 'data/val/mars_crater (91).jpg'\n",
    "image = dataset.load_image(image_id)"
   ]
  },
  {
   "cell_type": "code",
   "execution_count": 12,
   "id": "32737837-6693-4bdf-a477-81659362e354",
   "metadata": {},
   "outputs": [
    {
     "ename": "NameError",
     "evalue": "name 'image_id' is not defined",
     "output_type": "error",
     "traceback": [
      "\u001b[1;31m---------------------------------------------------------------------------\u001b[0m",
      "\u001b[1;31mNameError\u001b[0m                                 Traceback (most recent call last)",
      "Cell \u001b[1;32mIn[12], line 1\u001b[0m\n\u001b[1;32m----> 1\u001b[0m mask, class_ids \u001b[38;5;241m=\u001b[39m \u001b[43mdataset\u001b[49m\u001b[38;5;241;43m.\u001b[39;49m\u001b[43mload_mask\u001b[49m\u001b[43m(\u001b[49m\u001b[43m)\u001b[49m\n",
      "File \u001b[1;32mD:\\Repo\\Crater-Detection-on-Lunar-Surface\\model\\lunar_crater.py:130\u001b[0m, in \u001b[0;36mCraterDataset.load_mask\u001b[1;34m(self)\u001b[0m\n\u001b[0;32m    123\u001b[0m \u001b[38;5;250m\u001b[39m\u001b[38;5;124;03m\"\"\"Generate instance masks for an image.\u001b[39;00m\n\u001b[0;32m    124\u001b[0m \u001b[38;5;124;03mReturns:\u001b[39;00m\n\u001b[0;32m    125\u001b[0m \u001b[38;5;124;03mmasks: A bool array of shape [height, width, instance count] with\u001b[39;00m\n\u001b[0;32m    126\u001b[0m \u001b[38;5;124;03m    one mask per instance.\u001b[39;00m\n\u001b[0;32m    127\u001b[0m \u001b[38;5;124;03mclass_ids: a 1D array of class IDs of the instance masks.\u001b[39;00m\n\u001b[0;32m    128\u001b[0m \u001b[38;5;124;03m\"\"\"\u001b[39;00m\n\u001b[0;32m    129\u001b[0m \u001b[38;5;66;03m# If not a crater dataset image, delegate to parent class.\u001b[39;00m\n\u001b[1;32m--> 130\u001b[0m image_info \u001b[38;5;241m=\u001b[39m \u001b[38;5;28mself\u001b[39m\u001b[38;5;241m.\u001b[39mimage_info[\u001b[43mimage_id\u001b[49m]\n\u001b[0;32m    131\u001b[0m \u001b[38;5;28;01mif\u001b[39;00m image_info[\u001b[38;5;124m\"\u001b[39m\u001b[38;5;124msource\u001b[39m\u001b[38;5;124m\"\u001b[39m] \u001b[38;5;241m!=\u001b[39m \u001b[38;5;124m\"\u001b[39m\u001b[38;5;124mcrater\u001b[39m\u001b[38;5;124m\"\u001b[39m:\n\u001b[0;32m    132\u001b[0m     \u001b[38;5;28;01mreturn\u001b[39;00m \u001b[38;5;28msuper\u001b[39m(\u001b[38;5;28mself\u001b[39m\u001b[38;5;241m.\u001b[39m\u001b[38;5;18m__class__\u001b[39m, \u001b[38;5;28mself\u001b[39m)\u001b[38;5;241m.\u001b[39mload_mask(image_id)\n",
      "\u001b[1;31mNameError\u001b[0m: name 'image_id' is not defined"
     ]
    }
   ],
   "source": [
    "mask, class_ids = dataset.load_mask()"
   ]
  },
  {
   "cell_type": "code",
   "execution_count": null,
   "id": "4bf221f0-6809-41b5-abaf-ae972543fe76",
   "metadata": {},
   "outputs": [],
   "source": []
  },
  {
   "cell_type": "code",
   "execution_count": null,
   "id": "872783a2-ae00-469f-8a8c-5bcc88a180f5",
   "metadata": {},
   "outputs": [],
   "source": [
    "bbox = utils.extract_bboxes(mask)"
   ]
  },
  {
   "cell_type": "code",
   "execution_count": null,
   "id": "23a137b3-0421-4e63-9f84-35a44afede7a",
   "metadata": {},
   "outputs": [],
   "source": [
    "plt.figure(figsize=(10, 10))\n",
    "plt.imshow(image)\n",
    "plt.axis('off')\n",
    "plt.show\n",
    "plt.show()"
   ]
  },
  {
   "cell_type": "code",
   "execution_count": null,
   "id": "d7c1387a-baa0-40c1-bd83-f847d1d826f1",
   "metadata": {},
   "outputs": [],
   "source": [
    "log(\"image\", image)\n",
    "log(\"mask\", mask)\n",
    "log(\"class_ids\", class_ids)\n",
    "log(\"bbox\", bbox)\n",
    "visualize.display_instances(image, bbox, mask, class_ids, dataset.class_names)"
   ]
  },
  {
   "cell_type": "code",
   "execution_count": null,
   "id": "86655d65-57d4-4151-a10d-e59f556b591c",
   "metadata": {},
   "outputs": [],
   "source": []
  }
 ],
 "metadata": {
  "kernelspec": {
   "display_name": "Python 3 (ipykernel)",
   "language": "python",
   "name": "python3"
  },
  "language_info": {
   "codemirror_mode": {
    "name": "ipython",
    "version": 3
   },
   "file_extension": ".py",
   "mimetype": "text/x-python",
   "name": "python",
   "nbconvert_exporter": "python",
   "pygments_lexer": "ipython3",
   "version": "3.12.3"
  }
 },
 "nbformat": 4,
 "nbformat_minor": 5
}
